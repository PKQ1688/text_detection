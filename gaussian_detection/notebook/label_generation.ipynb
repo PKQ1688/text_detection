{
 "cells": [
  {
   "cell_type": "code",
   "execution_count": 1,
   "metadata": {},
   "outputs": [
    {
     "name": "stdout",
     "output_type": "stream",
     "text": [
      "Populating the interactive namespace from numpy and matplotlib\n"
     ]
    }
   ],
   "source": [
    "import pyclipper\n",
    "import Polygon as plg\n",
    "import numpy as np\n",
    "%pylab inline"
   ]
  },
  {
   "cell_type": "code",
   "execution_count": 2,
   "metadata": {},
   "outputs": [],
   "source": [
    "polys = np.array(\n",
    "    [\n",
    "        [300, 300],\n",
    "        [500, 400],\n",
    "        [400, 600],\n",
    "        [100, 500]\n",
    "    ],\n",
    ")\n",
    "\n",
    "mask = np.zeros(shape=(1024, 1024), dtype=np.uint8)"
   ]
  },
  {
   "cell_type": "code",
   "execution_count": 3,
   "metadata": {},
   "outputs": [],
   "source": [
    "import cv2\n",
    "img = cv2.drawContours(mask, [polys.reshape((-1, 2)).astype(np.int32)], -1, 1, -1)"
   ]
  },
  {
   "cell_type": "code",
   "execution_count": null,
   "metadata": {},
   "outputs": [],
   "source": []
  },
  {
   "cell_type": "code",
   "execution_count": 4,
   "metadata": {},
   "outputs": [
    {
     "data": {
      "text/plain": [
       "<matplotlib.image.AxesImage at 0x122446410>"
      ]
     },
     "execution_count": 4,
     "metadata": {},
     "output_type": "execute_result"
    },
    {
     "data": {
      "image/png": "[encoded data removed]",
      "text/plain": [
       "<Figure size 432x288 with 1 Axes>"
      ]
     },
     "metadata": {
      "needs_background": "light"
     },
     "output_type": "display_data"
    }
   ],
   "source": [
    "plt.imshow(img)"
   ]
  },
  {
   "cell_type": "code",
   "execution_count": 5,
   "metadata": {},
   "outputs": [],
   "source": [
    "distance_map = cv2.distanceTransform(img, 2, 5)"
   ]
  },
  {
   "cell_type": "code",
   "execution_count": 6,
   "metadata": {},
   "outputs": [
    {
     "data": {
      "text/plain": [
       "array([[0., 0., 0., ..., 0., 0., 0.],\n",
       "       [0., 0., 0., ..., 0., 0., 0.],\n",
       "       [0., 0., 0., ..., 0., 0., 0.],\n",
       "       ...,\n",
       "       [0., 0., 0., ..., 0., 0., 0.],\n",
       "       [0., 0., 0., ..., 0., 0., 0.],\n",
       "       [0., 0., 0., ..., 0., 0., 0.]], dtype=float32)"
      ]
     },
     "execution_count": 6,
     "metadata": {},
     "output_type": "execute_result"
    }
   ],
   "source": [
    "cv2.normalize(distance_map, distance_map, 0, 1, cv2.NORM_MINMAX)"
   ]
  },
  {
   "cell_type": "code",
   "execution_count": 7,
   "metadata": {},
   "outputs": [
    {
     "data": {
      "text/plain": [
       "<matplotlib.image.AxesImage at 0x122bc2cd0>"
      ]
     },
     "execution_count": 7,
     "metadata": {},
     "output_type": "execute_result"
    },
    {
     "data": {
      "image/png": "[encoded data removed]",
      "text/plain": [
       "<Figure size 432x288 with 1 Axes>"
      ]
     },
     "metadata": {
      "needs_background": "light"
     },
     "output_type": "display_data"
    }
   ],
   "source": [
    "plt.imshow(distance_map)"
   ]
  },
  {
   "cell_type": "code",
   "execution_count": 8,
   "metadata": {},
   "outputs": [],
   "source": [
    "### process border\n",
    "def dist(a, b):\n",
    "    return np.sqrt(np.sum((a - b) ** 2))\n",
    "\n",
    "def perimeter(bbox):\n",
    "    peri = 0.0\n",
    "    for i in range(bbox.shape[0]):\n",
    "        peri += dist(bbox[i], bbox[(i + 1) % bbox.shape[0]])\n",
    "    return peri\n",
    "def shrink(bboxes, rate, max_shr=40, direct=1):\n",
    "    rate = rate\n",
    "    shrinked_bboxes = []\n",
    "    for bbox in bboxes:\n",
    "        area = plg.Polygon(bbox).area()\n",
    "        peri = perimeter(bbox)\n",
    "\n",
    "        pco = pyclipper.PyclipperOffset()\n",
    "        # if direct==-1:\n",
    "        #     bbox = pyclipper.scale_to_clipper(bbox)\n",
    "        pco.AddPath(bbox, pyclipper.JT_ROUND, pyclipper.ET_CLOSEDPOLYGON)\n",
    "        offset = min((int)(area * (1 - rate) / (peri + 0.001) + 0.5), max_shr)\n",
    "        print(f'offset : {offset}')\n",
    "        shrinked_bbox = pco.Execute(-(offset * direct))\n",
    "        if len(shrinked_bbox) == 0:\n",
    "            shrinked_bboxes.append(bbox)\n",
    "            continue\n",
    "        \n",
    "        shrinked_bbox = np.array(shrinked_bbox)[0]\n",
    "        if shrinked_bbox.shape[0] <= 2:\n",
    "            shrinked_bboxes.append(bbox)\n",
    "            continue\n",
    "        \n",
    "        shrinked_bboxes.append(shrinked_bbox)\n",
    "    \n",
    "    return np.array(shrinked_bboxes)"
   ]
  },
  {
   "cell_type": "code",
   "execution_count": 9,
   "metadata": {},
   "outputs": [
    {
     "name": "stdout",
     "output_type": "stream",
     "text": [
      "offset : 19\n",
      "offset : 12\n"
     ]
    },
    {
     "data": {
      "text/plain": [
       "<matplotlib.image.AxesImage at 0x12349d610>"
      ]
     },
     "execution_count": 9,
     "metadata": {},
     "output_type": "execute_result"
    },
    {
     "data": {
      "image/png": "[encoded data removed]",
      "text/plain": [
       "<Figure size 720x720 with 1 Axes>"
      ]
     },
     "metadata": {
      "needs_background": "light"
     },
     "output_type": "display_data"
    }
   ],
   "source": [
    "mask = np.zeros(shape=(1024, 1024), dtype=np.uint8)\n",
    "shrink_boxes = shrink(polys.reshape((1, -1, 2)), 0.7)\n",
    "unshrink_boxes = shrink(polys.reshape((1, -1, 2)), 0.8, direct=-1)\n",
    "# img = cv2.drawContours(mask, [unshrink_boxes.reshape((-1, 2)).astype(np.int32)], -1, 1, -1)\n",
    "# img = cv2.drawContours(img, [polys.reshape((-1, 2)).astype(np.int32)], -1, 0, -1)\n",
    "img = cv2.drawContours(img, [shrink_boxes.reshape((-1, 2)).astype(np.int32)], -1, 0, -1)\n",
    "plt.figure(figsize=(10, 10))\n",
    "plt.title(\"map\")\n",
    "plt.imshow(img)\n",
    "# distance_map = cv2.distanceTransform(img, 2, 5)\n",
    "# cv2.normalize(distance_map, distance_map, 0, 1, cv2.NORM_MINMAX)\n",
    "# plt.title('distance_map')\n",
    "# plt.imshow(distance_map)"
   ]
  },
  {
   "cell_type": "code",
   "execution_count": null,
   "metadata": {},
   "outputs": [],
   "source": []
  },
  {
   "cell_type": "code",
   "execution_count": null,
   "metadata": {},
   "outputs": [],
   "source": []
  },
  {
   "cell_type": "code",
   "execution_count": 10,
   "metadata": {},
   "outputs": [
    {
     "data": {
      "text/plain": [
       "6712"
      ]
     },
     "execution_count": 10,
     "metadata": {},
     "output_type": "execute_result"
    }
   ],
   "source": [
    "len(np.where(distance_map > 0.7)[0])"
   ]
  },
  {
   "cell_type": "code",
   "execution_count": 11,
   "metadata": {},
   "outputs": [],
   "source": [
    "a = np.array([1, 2, 3, 4])\n",
    "b = np.array([1, 2, 3, 4])"
   ]
  },
  {
   "cell_type": "code",
   "execution_count": 12,
   "metadata": {},
   "outputs": [
    {
     "name": "stdout",
     "output_type": "stream",
     "text": [
      "(1, 1)\n",
      "(2, 2)\n",
      "(3, 3)\n",
      "(4, 4)\n"
     ]
    }
   ],
   "source": [
    "for item in zip(a, b):\n",
    "    print(item)"
   ]
  },
  {
   "cell_type": "code",
   "execution_count": null,
   "metadata": {},
   "outputs": [],
   "source": []
  }
 ],
 "metadata": {
  "file_extension": ".py",
  "kernelspec": {
   "display_name": "Python 3",
   "language": "python",
   "name": "python3"
  },
  "language_info": {
   "codemirror_mode": {
    "name": "ipython",
    "version": 3
   },
   "file_extension": ".py",
   "mimetype": "text/x-python",
   "name": "python",
   "nbconvert_exporter": "python",
   "pygments_lexer": "ipython3",
   "version": "3.7.5"
  },
  "mimetype": "text/x-python",
  "name": "python",
  "npconvert_exporter": "python",
  "pygments_lexer": "ipython3",
  "version": 3.0
 },
 "nbformat": 4,
 "nbformat_minor": 2
}
